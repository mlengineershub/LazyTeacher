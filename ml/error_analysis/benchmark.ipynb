{
 "cells": [
  {
   "cell_type": "code",
   "execution_count": 39,
   "metadata": {},
   "outputs": [],
   "source": [
    "from transformers import (\n",
    "    AutoModelForSequenceClassification,\n",
    "    AutoTokenizer\n",
    ")\n",
    "\n",
    "from sklearn.metrics import (\n",
    "    f1_score,\n",
    "    precision_score,\n",
    "    recall_score,\n",
    "    matthews_corrcoef\n",
    ")\n",
    "\n",
    "from datasets import load_dataset, DatasetDict, Dataset\n",
    "\n",
    "import evaluate\n",
    "from evaluate import evaluator\n",
    "\n",
    "from text_multi_classification import TextMultiClassificationEvaluator"
   ]
  },
  {
   "cell_type": "code",
   "execution_count": 49,
   "metadata": {},
   "outputs": [],
   "source": [
    "tokenizer = AutoTokenizer.from_pretrained(\"../training/transformers/base/gte-base-lazy-teacher\")\n",
    "\n",
    "model_os = AutoModelForSequenceClassification.from_pretrained(\"../training/transformers/oversampled/gte-base-lazy-teacher-os\").to(\"mps\")\n",
    "model_base = AutoModelForSequenceClassification.from_pretrained(\"../training/transformers/base/gte-base-lazy-teacher\").to(\"mps\")\n",
    "model_w = AutoModelForSequenceClassification.from_pretrained(\"../training/transformers/weighted/gte-base-lazy-teacher-weighted\").to(\"mps\")"
   ]
  },
  {
   "cell_type": "code",
   "execution_count": 3,
   "metadata": {},
   "outputs": [],
   "source": [
    "data_test = load_dataset('csv', data_files='../../data/test.csv', split='train')"
   ]
  },
  {
   "cell_type": "code",
   "execution_count": 5,
   "metadata": {},
   "outputs": [
    {
     "name": "stdout",
     "output_type": "stream",
     "text": [
      "{'LABEL_0': 0, 'LABEL_1': 1, 'LABEL_2': 2, 'LABEL_3': 3, 'LABEL_4': 4, 'LABEL_5': 5}\n"
     ]
    }
   ],
   "source": [
    "label_mappping = {f\"LABEL_{i}\": i for i in range(6)}\n",
    "print(label_mappping)"
   ]
  },
  {
   "cell_type": "code",
   "execution_count": 42,
   "metadata": {},
   "outputs": [],
   "source": [
    "task_evaluator = TextMultiClassificationEvaluator(default_metric_name=\"accuracy\")"
   ]
  },
  {
   "cell_type": "code",
   "execution_count": null,
   "metadata": {},
   "outputs": [],
   "source": [
    "metrics_kwargs= {\n",
    "    \"f1\": {\"average\": \"macro\"},\n",
    "    \"precision\": {\"average\": \"macro\"},\n",
    "    \"recall\": {\"average\": \"macro\"},\n",
    "    \"matthews_corrcoef\": {}\n",
    "}"
   ]
  },
  {
   "cell_type": "code",
   "execution_count": null,
   "metadata": {},
   "outputs": [],
   "source": [
    "task_evaluator.compute(\n",
    "    model_or_pipeline=model_base,\n",
    "    tokenizer=tokenizer,\n",
    "    device=\"mps\",\n",
    "    data=data_test,\n",
    "    metric=[\"accuracy\", \"f1\", \"matthews_correlation\", \"precision\", \"recall\"],\n",
    "    label_mapping=label_mappping,\n",
    "    input_column=\"corrected_text\",\n",
    "    label_column=\"labels\",\n",
    "    random_state=42\n",
    ")"
   ]
  }
 ],
 "metadata": {
  "kernelspec": {
   "display_name": "base",
   "language": "python",
   "name": "python3"
  },
  "language_info": {
   "codemirror_mode": {
    "name": "ipython",
    "version": 3
   },
   "file_extension": ".py",
   "mimetype": "text/x-python",
   "name": "python",
   "nbconvert_exporter": "python",
   "pygments_lexer": "ipython3",
   "version": "3.11.8"
  }
 },
 "nbformat": 4,
 "nbformat_minor": 2
}
