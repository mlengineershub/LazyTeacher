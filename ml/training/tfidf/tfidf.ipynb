{
 "cells": [
  {
   "cell_type": "code",
   "execution_count": null,
   "metadata": {},
   "outputs": [],
   "source": [
    "from tqdm.notebook import tqdm \n",
    "import pandas as pd\n",
    "from gensim.parsing.preprocessing import preprocess_string\n",
    "import optuna\n",
    "from sklearn.preprocessing import LabelEncoder\n",
    "from sklearn.feature_extraction.text import TfidfVectorizer\n",
    "from sklearn.decomposition import TruncatedSVD\n",
    "from sklearn.pipeline import make_pipeline\n",
    "\n",
    "from sklearn.linear_model import SGDClassifier, SGDRegressor\n",
    "from sklearn.model_selection import cross_validate\n",
    "from sklearn.metrics import (\n",
    "    accuracy_score,\n",
    "    classification_report\n",
    ")\n",
    "from sklearn.preprocessing import StandardScaler\n",
    "\n",
    "from sklearn.ensemble import RandomForestClassifier\n",
    "from sklearn.linear_model import LogisticRegression\n",
    "from sklearn.svm import SVC\n",
    "from sklearn.naive_bayes import GaussianNB, MultinomialNB\n",
    "\n",
    "from xgboost import XGBClassifier\n",
    "\n",
    "from typing import List, Any, Tuple\n",
    "\n",
    "tqdm.pandas()"
   ]
  },
  {
   "cell_type": "code",
   "execution_count": 4,
   "metadata": {},
   "outputs": [],
   "source": [
    "df_train = pd.read_csv('./../../../data/train.csv')\n",
    "df_val = pd.read_csv('./../../../data/val.csv')\n",
    "df_test = pd.read_csv('./../../../data/test.csv')"
   ]
  },
  {
   "cell_type": "code",
   "execution_count": 5,
   "metadata": {},
   "outputs": [],
   "source": [
    "df_train = pd.concat([df_train, df_val])"
   ]
  },
  {
   "cell_type": "code",
   "execution_count": 6,
   "metadata": {},
   "outputs": [
    {
     "data": {
      "text/html": [
       "<div>\n",
       "<style scoped>\n",
       "    .dataframe tbody tr th:only-of-type {\n",
       "        vertical-align: middle;\n",
       "    }\n",
       "\n",
       "    .dataframe tbody tr th {\n",
       "        vertical-align: top;\n",
       "    }\n",
       "\n",
       "    .dataframe thead th {\n",
       "        text-align: right;\n",
       "    }\n",
       "</style>\n",
       "<table border=\"1\" class=\"dataframe\">\n",
       "  <thead>\n",
       "    <tr style=\"text-align: right;\">\n",
       "      <th></th>\n",
       "      <th>corrected_text</th>\n",
       "      <th>length</th>\n",
       "      <th>ratio_err</th>\n",
       "      <th>labels</th>\n",
       "    </tr>\n",
       "  </thead>\n",
       "  <tbody>\n",
       "    <tr>\n",
       "      <th>0</th>\n",
       "      <td>the story making mona lisa smile the author ta...</td>\n",
       "      <td>423</td>\n",
       "      <td>0.037825</td>\n",
       "      <td>3</td>\n",
       "    </tr>\n",
       "    <tr>\n",
       "      <th>1</th>\n",
       "      <td>the last ship try land venus was three decades...</td>\n",
       "      <td>342</td>\n",
       "      <td>0.038012</td>\n",
       "      <td>2</td>\n",
       "    </tr>\n",
       "    <tr>\n",
       "      <th>2</th>\n",
       "      <td>electrola college not just college process the...</td>\n",
       "      <td>715</td>\n",
       "      <td>0.027972</td>\n",
       "      <td>1</td>\n",
       "    </tr>\n",
       "    <tr>\n",
       "      <th>3</th>\n",
       "      <td>many countries are pushing towards less cars m...</td>\n",
       "      <td>608</td>\n",
       "      <td>0.004934</td>\n",
       "      <td>5</td>\n",
       "    </tr>\n",
       "    <tr>\n",
       "      <th>4</th>\n",
       "      <td>voters some times get confused about the lecte...</td>\n",
       "      <td>277</td>\n",
       "      <td>0.028881</td>\n",
       "      <td>2</td>\n",
       "    </tr>\n",
       "  </tbody>\n",
       "</table>\n",
       "</div>"
      ],
      "text/plain": [
       "                                      corrected_text  length  ratio_err  \\\n",
       "0  the story making mona lisa smile the author ta...     423   0.037825   \n",
       "1  the last ship try land venus was three decades...     342   0.038012   \n",
       "2  electrola college not just college process the...     715   0.027972   \n",
       "3  many countries are pushing towards less cars m...     608   0.004934   \n",
       "4  voters some times get confused about the lecte...     277   0.028881   \n",
       "\n",
       "   labels  \n",
       "0       3  \n",
       "1       2  \n",
       "2       1  \n",
       "3       5  \n",
       "4       2  "
      ]
     },
     "execution_count": 6,
     "metadata": {},
     "output_type": "execute_result"
    }
   ],
   "source": [
    "df_train.head()"
   ]
  },
  {
   "cell_type": "code",
   "execution_count": 8,
   "metadata": {},
   "outputs": [
    {
     "data": {
      "application/vnd.jupyter.widget-view+json": {
       "model_id": "10ae327f0522409d854af38425233903",
       "version_major": 2,
       "version_minor": 0
      },
      "text/plain": [
       "  0%|          | 0/13845 [00:00<?, ?it/s]"
      ]
     },
     "metadata": {},
     "output_type": "display_data"
    }
   ],
   "source": [
    "df_train['text'] = df_train['corrected_text'].progress_apply(lambda x: ' '.join(preprocess_string(x)))"
   ]
  },
  {
   "cell_type": "code",
   "execution_count": 9,
   "metadata": {},
   "outputs": [
    {
     "name": "stdout",
     "output_type": "stream",
     "text": [
      "vocabulary size: 18559\n"
     ]
    }
   ],
   "source": [
    "print(f\"vocabulary size: {len(set(' '.join(df_train['text']).split()))}\")"
   ]
  },
  {
   "cell_type": "code",
   "execution_count": 10,
   "metadata": {},
   "outputs": [],
   "source": [
    "df_train[\"labels\"] = LabelEncoder().fit_transform(df_train[\"labels\"])"
   ]
  },
  {
   "cell_type": "code",
   "execution_count": 11,
   "metadata": {},
   "outputs": [
    {
     "data": {
      "text/plain": [
       "labels\n",
       "2    5024\n",
       "1    3778\n",
       "3    3141\n",
       "0    1001\n",
       "4     776\n",
       "5     125\n",
       "Name: count, dtype: int64"
      ]
     },
     "execution_count": 11,
     "metadata": {},
     "output_type": "execute_result"
    }
   ],
   "source": [
    "df_train.labels.value_counts()"
   ]
  },
  {
   "cell_type": "code",
   "execution_count": 12,
   "metadata": {},
   "outputs": [
    {
     "data": {
      "text/plain": [
       "(13845, 18553)"
      ]
     },
     "execution_count": 12,
     "metadata": {},
     "output_type": "execute_result"
    }
   ],
   "source": [
    "tfidf = TfidfVectorizer()\n",
    "\n",
    "X_train = tfidf.fit_transform(df_train['text'])\n",
    "y_train = df_train['labels']\n",
    "\n",
    "X_train.shape"
   ]
  },
  {
   "cell_type": "code",
   "execution_count": 13,
   "metadata": {},
   "outputs": [],
   "source": [
    "def bayesian_model_hp_search(model: object,\n",
    "                             X: pd.DataFrame,\n",
    "                             y: pd.DataFrame,\n",
    "                             dim: List[int])-> Tuple[List[int], List[dict]]:\n",
    "    \"\"\"\n",
    "    Return the list of scores for each dim of TruncatedSVD\n",
    "    \"\"\"\n",
    "\n",
    "    scores = []\n",
    "    for d in tqdm(dim, desc='Computing scores for each dimension'):\n",
    "        pipeline = make_pipeline(\n",
    "            TruncatedSVD(n_components=d),\n",
    "            model\n",
    "        )\n",
    "        score = cross_validate(pipeline, \n",
    "                                X, \n",
    "                                y, \n",
    "                                cv=3,\n",
    "                                n_jobs=-1,\n",
    "                                scoring=('accuracy', \n",
    "                                         'balanced_accuracy', \n",
    "                                         'f1_macro', \n",
    "                                         'f1_weighted', \n",
    "                                         'f1_micro', \n",
    "                                         'precision_macro', \n",
    "                                         'precision_weighted', \n",
    "                                         'precision_micro', \n",
    "                                         'recall_macro', \n",
    "                                         'recall_weighted', \n",
    "                                         'recall_micro', \n",
    "                                         'matthews_corrcoef'),\n",
    "                                return_train_score=True)\n",
    "\n",
    "        scores.append(score)\n",
    "\n",
    "\n",
    "    return dim, scores"
   ]
  },
  {
   "cell_type": "code",
   "execution_count": 15,
   "metadata": {},
   "outputs": [],
   "source": [
    "dim = [10, 50, 100, 200, 300, 400, 500, 600, 700, 800, 900, 1000]"
   ]
  },
  {
   "cell_type": "code",
   "execution_count": 16,
   "metadata": {},
   "outputs": [],
   "source": [
    "models = {\n",
    "    'SGDClassifier': SGDClassifier(),\n",
    "    'SGDRegressor': SGDRegressor(),\n",
    "    'RandomForestClassifier': RandomForestClassifier(),\n",
    "    'LogisticRegression': LogisticRegression(),\n",
    "    'SVC': SVC(),\n",
    "    'GaussianNB': GaussianNB(),\n",
    "    'MultinomialNB': MultinomialNB(),\n",
    "    'XGBClassifier': XGBClassifier()\n",
    "}"
   ]
  },
  {
   "cell_type": "code",
   "execution_count": 17,
   "metadata": {},
   "outputs": [
    {
     "data": {
      "application/vnd.jupyter.widget-view+json": {
       "model_id": "4026c2f45edb4346988fac83ff1ad1fe",
       "version_major": 2,
       "version_minor": 0
      },
      "text/plain": [
       "Models:   0%|          | 0/8 [00:00<?, ?it/s]"
      ]
     },
     "metadata": {},
     "output_type": "display_data"
    },
    {
     "data": {
      "application/vnd.jupyter.widget-view+json": {
       "model_id": "0fc8ec11eb144447b25ca2b1c3e90b9a",
       "version_major": 2,
       "version_minor": 0
      },
      "text/plain": [
       "Computing scores for each dimension:   0%|          | 0/12 [00:00<?, ?it/s]"
      ]
     },
     "metadata": {},
     "output_type": "display_data"
    },
    {
     "data": {
      "application/vnd.jupyter.widget-view+json": {
       "model_id": "6a77b91ccdb14189a0c3bad1f002af02",
       "version_major": 2,
       "version_minor": 0
      },
      "text/plain": [
       "Computing scores for each dimension:   0%|          | 0/12 [00:00<?, ?it/s]"
      ]
     },
     "metadata": {},
     "output_type": "display_data"
    },
    {
     "data": {
      "application/vnd.jupyter.widget-view+json": {
       "model_id": "4af3f13e200b4eb6975d2d9975430a61",
       "version_major": 2,
       "version_minor": 0
      },
      "text/plain": [
       "Computing scores for each dimension:   0%|          | 0/12 [00:00<?, ?it/s]"
      ]
     },
     "metadata": {},
     "output_type": "display_data"
    }
   ],
   "source": [
    "scores = {}\n",
    "dims = {}\n",
    "for name, model in tqdm(models.items(), desc='Models'):\n",
    "    dim, scores[name] = bayesian_model_hp_search(model, X_train, y_train, dim)\n",
    "    dims[name] = dim"
   ]
  },
  {
   "cell_type": "code",
   "execution_count": null,
   "metadata": {},
   "outputs": [],
   "source": []
  }
 ],
 "metadata": {
  "kernelspec": {
   "display_name": "VDB",
   "language": "python",
   "name": "python3"
  },
  "language_info": {
   "codemirror_mode": {
    "name": "ipython",
    "version": 3
   },
   "file_extension": ".py",
   "mimetype": "text/x-python",
   "name": "python",
   "nbconvert_exporter": "python",
   "pygments_lexer": "ipython3",
   "version": "3.10.0"
  }
 },
 "nbformat": 4,
 "nbformat_minor": 2
}
