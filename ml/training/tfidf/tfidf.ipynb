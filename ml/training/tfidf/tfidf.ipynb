{
 "cells": [
  {
   "cell_type": "code",
   "execution_count": 20,
   "metadata": {},
   "outputs": [],
   "source": [
    "from tqdm.notebook import tqdm \n",
    "import pandas as pd\n",
    "from gensim.parsing.preprocessing import preprocess_string\n",
    "import optuna\n",
    "from sklearn.preprocessing import LabelEncoder\n",
    "from sklearn.feature_extraction.text import TfidfVectorizer\n",
    "from sklearn.decomposition import TruncatedSVD\n",
    "from sklearn.pipeline import make_pipeline\n",
    "\n",
    "from sklearn.linear_model import SGDClassifier, SGDRegressor\n",
    "from sklearn.model_selection import cross_validate\n",
    "from sklearn.metrics import (\n",
    "    accuracy_score,\n",
    "    classification_report\n",
    ")\n",
    "from sklearn.preprocessing import StandardScaler\n",
    "\n",
    "from sklearn.ensemble import RandomForestClassifier\n",
    "from sklearn.linear_model import LogisticRegression\n",
    "from sklearn.svm import SVC\n",
    "from sklearn.naive_bayes import GaussianNB, MultinomialNB\n",
    "\n",
    "import numpy as np\n",
    "\n",
    "from xgboost import XGBClassifier\n",
    "\n",
    "from typing import List, Any, Tuple\n",
    "\n",
    "import pickle\n",
    "\n",
    "tqdm.pandas()"
   ]
  },
  {
   "cell_type": "code",
   "execution_count": 2,
   "metadata": {},
   "outputs": [],
   "source": [
    "df_train = pd.read_csv('./../../../data/train.csv')\n",
    "df_val = pd.read_csv('./../../../data/val.csv')\n",
    "df_test = pd.read_csv('./../../../data/test.csv')"
   ]
  },
  {
   "cell_type": "code",
   "execution_count": 3,
   "metadata": {},
   "outputs": [],
   "source": [
    "df_train = pd.concat([df_train, df_val])"
   ]
  },
  {
   "cell_type": "code",
   "execution_count": 4,
   "metadata": {},
   "outputs": [
    {
     "data": {
      "text/html": [
       "<div>\n",
       "<style scoped>\n",
       "    .dataframe tbody tr th:only-of-type {\n",
       "        vertical-align: middle;\n",
       "    }\n",
       "\n",
       "    .dataframe tbody tr th {\n",
       "        vertical-align: top;\n",
       "    }\n",
       "\n",
       "    .dataframe thead th {\n",
       "        text-align: right;\n",
       "    }\n",
       "</style>\n",
       "<table border=\"1\" class=\"dataframe\">\n",
       "  <thead>\n",
       "    <tr style=\"text-align: right;\">\n",
       "      <th></th>\n",
       "      <th>corrected_text</th>\n",
       "      <th>length</th>\n",
       "      <th>ratio_err</th>\n",
       "      <th>labels</th>\n",
       "    </tr>\n",
       "  </thead>\n",
       "  <tbody>\n",
       "    <tr>\n",
       "      <th>0</th>\n",
       "      <td>the story making mona lisa smile the author ta...</td>\n",
       "      <td>423</td>\n",
       "      <td>0.037825</td>\n",
       "      <td>3</td>\n",
       "    </tr>\n",
       "    <tr>\n",
       "      <th>1</th>\n",
       "      <td>the last ship try land venus was three decades...</td>\n",
       "      <td>342</td>\n",
       "      <td>0.038012</td>\n",
       "      <td>2</td>\n",
       "    </tr>\n",
       "    <tr>\n",
       "      <th>2</th>\n",
       "      <td>electrola college not just college process the...</td>\n",
       "      <td>715</td>\n",
       "      <td>0.027972</td>\n",
       "      <td>1</td>\n",
       "    </tr>\n",
       "    <tr>\n",
       "      <th>3</th>\n",
       "      <td>many countries are pushing towards less cars m...</td>\n",
       "      <td>608</td>\n",
       "      <td>0.004934</td>\n",
       "      <td>5</td>\n",
       "    </tr>\n",
       "    <tr>\n",
       "      <th>4</th>\n",
       "      <td>voters some times get confused about the lecte...</td>\n",
       "      <td>277</td>\n",
       "      <td>0.028881</td>\n",
       "      <td>2</td>\n",
       "    </tr>\n",
       "  </tbody>\n",
       "</table>\n",
       "</div>"
      ],
      "text/plain": [
       "                                      corrected_text  length  ratio_err  \\\n",
       "0  the story making mona lisa smile the author ta...     423   0.037825   \n",
       "1  the last ship try land venus was three decades...     342   0.038012   \n",
       "2  electrola college not just college process the...     715   0.027972   \n",
       "3  many countries are pushing towards less cars m...     608   0.004934   \n",
       "4  voters some times get confused about the lecte...     277   0.028881   \n",
       "\n",
       "   labels  \n",
       "0       3  \n",
       "1       2  \n",
       "2       1  \n",
       "3       5  \n",
       "4       2  "
      ]
     },
     "execution_count": 4,
     "metadata": {},
     "output_type": "execute_result"
    }
   ],
   "source": [
    "df_train.head()"
   ]
  },
  {
   "cell_type": "code",
   "execution_count": 5,
   "metadata": {},
   "outputs": [
    {
     "data": {
      "application/vnd.jupyter.widget-view+json": {
       "model_id": "118258bbf2ed42c3b0f2bb9b9cebaa69",
       "version_major": 2,
       "version_minor": 0
      },
      "text/plain": [
       "  0%|          | 0/13845 [00:00<?, ?it/s]"
      ]
     },
     "metadata": {},
     "output_type": "display_data"
    }
   ],
   "source": [
    "df_train['text'] = df_train['corrected_text'].progress_apply(lambda x: ' '.join(preprocess_string(x)))"
   ]
  },
  {
   "cell_type": "code",
   "execution_count": 12,
   "metadata": {},
   "outputs": [
    {
     "name": "stdout",
     "output_type": "stream",
     "text": [
      "vocabulary size: 18559\n"
     ]
    }
   ],
   "source": [
    "print(f\"vocabulary size: {len(set(' '.join(df_train['text']).split()))}\")"
   ]
  },
  {
   "cell_type": "code",
   "execution_count": 13,
   "metadata": {},
   "outputs": [],
   "source": [
    "df_train[\"labels\"] = LabelEncoder().fit_transform(df_train[\"labels\"])"
   ]
  },
  {
   "cell_type": "code",
   "execution_count": 14,
   "metadata": {},
   "outputs": [
    {
     "data": {
      "text/plain": [
       "labels\n",
       "2    5024\n",
       "1    3778\n",
       "3    3141\n",
       "0    1001\n",
       "4     776\n",
       "5     125\n",
       "Name: count, dtype: int64"
      ]
     },
     "execution_count": 14,
     "metadata": {},
     "output_type": "execute_result"
    }
   ],
   "source": [
    "df_train.labels.value_counts()"
   ]
  },
  {
   "cell_type": "code",
   "execution_count": 15,
   "metadata": {},
   "outputs": [
    {
     "data": {
      "text/plain": [
       "(13845, 18553)"
      ]
     },
     "execution_count": 15,
     "metadata": {},
     "output_type": "execute_result"
    }
   ],
   "source": [
    "tfidf = TfidfVectorizer()\n",
    "\n",
    "X_train = tfidf.fit_transform(df_train['text'])\n",
    "y_train = df_train['labels']\n",
    "\n",
    "X_train.shape"
   ]
  },
  {
   "cell_type": "code",
   "execution_count": 19,
   "metadata": {},
   "outputs": [],
   "source": [
    "def model_train(model: object,\n",
    "                X: pd.DataFrame,\n",
    "                y: pd.DataFrame,\n",
    "                scoring: List[str])-> dict:\n",
    "    \"\"\"\n",
    "    Return a dict of scores for the model \n",
    "    \"\"\"\n",
    "    scores = cross_validate(model, X, y, cv=5, scoring=['accuracy', 'f1_macro', 'f1_weighted'], n_jobs=-1)\n",
    "\n",
    "    return scores"
   ]
  },
  {
   "cell_type": "code",
   "execution_count": 18,
   "metadata": {},
   "outputs": [],
   "source": [
    "models = {\n",
    "    'RandomForestClassifier': RandomForestClassifier(),\n",
    "    'LogisticRegression': LogisticRegression(),\n",
    "    'GaussianNB': GaussianNB(),\n",
    "    'MultinomialNB': MultinomialNB(),\n",
    "    'XGBClassifier': XGBClassifier()\n",
    "}"
   ]
  },
  {
   "cell_type": "code",
   "execution_count": 20,
   "metadata": {},
   "outputs": [],
   "source": [
    "scoring = ['accuracy', 'f1_macro', 'f1_weighted', 'precision_macro', 'recall_macro']"
   ]
  },
  {
   "cell_type": "code",
   "execution_count": 21,
   "metadata": {},
   "outputs": [],
   "source": [
    "scores = {}"
   ]
  },
  {
   "cell_type": "code",
   "execution_count": 25,
   "metadata": {},
   "outputs": [
    {
     "data": {
      "application/vnd.jupyter.widget-view+json": {
       "model_id": "3ca0b434ddf845c7932524a4ccf2cf96",
       "version_major": 2,
       "version_minor": 0
      },
      "text/plain": [
       "  0%|          | 0/5 [00:00<?, ?it/s]"
      ]
     },
     "metadata": {},
     "output_type": "display_data"
    }
   ],
   "source": [
    "for model_name, model in tqdm(models.items()):\n",
    "    scores[model_name] = model_train(model, X_train.toarray(), y_train, scoring)"
   ]
  },
  {
   "cell_type": "code",
   "execution_count": 16,
   "metadata": {},
   "outputs": [],
   "source": [
    "with open('scores.pkl', 'rb') as f:\n",
    "    scores = pickle.load(f)"
   ]
  },
  {
   "cell_type": "code",
   "execution_count": 19,
   "metadata": {},
   "outputs": [
    {
     "data": {
      "text/plain": [
       "{'RandomForestClassifier': {'fit_time': array([88.56587958, 89.70340919, 93.12885404, 84.34258032, 92.20869374]),\n",
       "  'score_time': array([0.82652926, 0.69100118, 0.48736644, 0.81251931, 0.57416153]),\n",
       "  'test_accuracy': array([0.50270856, 0.50343084, 0.50812568, 0.48717949, 0.50234742]),\n",
       "  'test_f1_macro': array([0.27004102, 0.27596062, 0.26801914, 0.26301831, 0.27486865]),\n",
       "  'test_f1_weighted': array([0.45804519, 0.46089891, 0.46188852, 0.44424348, 0.45971183])},\n",
       " 'LogisticRegression': {'fit_time': array([116.00057602, 114.97800946, 124.66681314, 128.47227478,\n",
       "         129.39941287]),\n",
       "  'score_time': array([0.35700369, 0.38610625, 0.5539999 , 0.48209691, 0.43846297]),\n",
       "  'test_accuracy': array([0.47778982, 0.48501264, 0.46984471, 0.4723727 , 0.48934633]),\n",
       "  'test_f1_macro': array([0.30838597, 0.31835455, 0.2979262 , 0.31246852, 0.31895074]),\n",
       "  'test_f1_weighted': array([0.45685952, 0.46527171, 0.44818106, 0.45292547, 0.46738191])},\n",
       " 'GaussianNB': {'fit_time': array([26.25159836, 21.29504967, 11.96904969, 25.95759749, 25.102597  ]),\n",
       "  'score_time': array([ 4.56308436,  5.50655389, 10.59400034,  4.62903643,  4.85504031]),\n",
       "  'test_accuracy': array([0.25388227, 0.2585771 , 0.24882629, 0.26435536, 0.25135428]),\n",
       "  'test_f1_macro': array([0.19579737, 0.19506297, 0.18929465, 0.19919629, 0.19340577]),\n",
       "  'test_f1_weighted': array([0.26934586, 0.27091318, 0.26037833, 0.27804263, 0.26457818])},\n",
       " 'MultinomialNB': {'fit_time': array([6.48332834, 6.15028977, 6.27632618, 4.80732822, 6.68332839]),\n",
       "  'score_time': array([0.26600337, 0.28599668, 0.2900033 , 0.25299907, 0.20203996]),\n",
       "  'test_accuracy': array([0.375948  , 0.38064283, 0.38569881, 0.3820874 , 0.38353196]),\n",
       "  'test_f1_macro': array([0.14063322, 0.14518804, 0.15302396, 0.14535151, 0.14753494]),\n",
       "  'test_f1_weighted': array([0.27245156, 0.27847217, 0.28966198, 0.27925762, 0.28279699])},\n",
       " 'XGBClassifier': {'fit_time': array([861.99214339, 861.98420262, 848.20570111, 852.46292901,\n",
       "         844.56158423]),\n",
       "  'score_time': array([0.9589901 , 0.94592881, 1.02920651, 1.01620317, 1.14755821]),\n",
       "  'test_accuracy': array([0.56446371, 0.5460455 , 0.54965692, 0.53954496, 0.54857349]),\n",
       "  'test_f1_macro': array([0.42762099, 0.38322176, 0.38574272, 0.40330599, 0.40113043]),\n",
       "  'test_f1_weighted': array([0.55292382, 0.53206878, 0.53564413, 0.52897518, 0.53839901])}}"
      ]
     },
     "execution_count": 19,
     "metadata": {},
     "output_type": "execute_result"
    }
   ],
   "source": [
    "scores"
   ]
  },
  {
   "cell_type": "code",
   "execution_count": 17,
   "metadata": {},
   "outputs": [],
   "source": [
    "from matplotlib import pyplot as plt\n",
    "\n",
    "def plot_scores(scores: dict):\n",
    "    for model_name, model_scores in scores.items():\n",
    "        for score_name, score_values in model_scores.items():\n",
    "            plt.plot(score_values, label=f\"{model_name} {score_name}\")\n",
    "    plt.legend()\n",
    "    plt.show()"
   ]
  },
  {
   "cell_type": "code",
   "execution_count": 29,
   "metadata": {},
   "outputs": [
    {
     "data": {
      "image/png": "[encoded data removed]",
      "text/plain": [
       "<Figure size 2000x600 with 3 Axes>"
      ]
     },
     "metadata": {},
     "output_type": "display_data"
    }
   ],
   "source": [
    "fig, axes = plt.subplots(1, 3, figsize=(20, 6), sharey=True)\n",
    "\n",
    "metrics = ['test_f1_macro', 'test_f1_weighted', 'test_accuracy']\n",
    "titles = ['F1 Macro', 'F1 Weighted', 'Accuracy']\n",
    "colors = ['r', 'g', 'b', 'c', 'm']\n",
    "\n",
    "for ax, metric, title in zip(axes, metrics, titles):\n",
    "    model_names = list(scores.keys())\n",
    "    metric_means = [np.mean(scores[model][metric]) for model in model_names]\n",
    "    \n",
    "    ax.bar(model_names, metric_means, color=colors[:len(model_names)])\n",
    "    ax.set_title(title)\n",
    "    ax.set_xlabel('Model')\n",
    "    for tick in ax.get_xticklabels():\n",
    "        tick.set_rotation(45)\n",
    "    ax.set_ylabel('Value')\n",
    "\n",
    "plt.suptitle('Models metrics comparison')\n",
    "plt.tight_layout()\n",
    "plt.show()"
   ]
  },
  {
   "cell_type": "markdown",
   "metadata": {},
   "source": [
    "<img src=\"./../../rsrc/idea.png\" alt=\"Explanation Image\" width=\"50\" height=\"50\">\n",
    "\n",
    "<div style=\"border: 2px solid red; padding: 10px;\">\n",
    "\n",
    "* We can see that models are not that performant. Even XGBoost has low results on train data.\n",
    "\n",
    "* Assumption: Without even predicting results on the test set, we know that the models perfomances are going to be poor (by experience ^^).\n",
    "\n",
    "* Knowing that, we should experiment more deeper models that could be suitable for our task, like `auto-encoder transformers`.\n",
    "</div>"
   ]
  }
 ],
 "metadata": {
  "kernelspec": {
   "display_name": "VDB",
   "language": "python",
   "name": "python3"
  },
  "language_info": {
   "codemirror_mode": {
    "name": "ipython",
    "version": 3
   },
   "file_extension": ".py",
   "mimetype": "text/x-python",
   "name": "python",
   "nbconvert_exporter": "python",
   "pygments_lexer": "ipython3",
   "version": "3.11.5"
  }
 },
 "nbformat": 4,
 "nbformat_minor": 2
}
