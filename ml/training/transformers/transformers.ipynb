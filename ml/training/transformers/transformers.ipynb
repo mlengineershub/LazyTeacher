{
 "cells": [
  {
   "cell_type": "code",
   "execution_count": 4,
   "metadata": {},
   "outputs": [],
   "source": [
    "from transformers import AutoModelForSequenceClassification, AutoTokenizer, Trainer, TrainingArguments, DataCollatorWithPadding, EvalPrediction\n",
    "from datasets import load_dataset, DatasetDict\n",
    "from sklearn.metrics import (\n",
    "    accuracy_score,\n",
    "    precision_score,\n",
    "    recall_score,\n",
    "    f1_score,\n",
    "    matthews_corrcoef\n",
    ")"
   ]
  },
  {
   "cell_type": "code",
   "execution_count": 5,
   "metadata": {},
   "outputs": [],
   "source": [
    "model_ckpt = \"/teamspace/studios/this_studio/Automatic-exam-scoring/training/bge-small-en-finetuned-oversampled/checkpoint-1000\""
   ]
  },
  {
   "cell_type": "code",
   "execution_count": 6,
   "metadata": {},
   "outputs": [],
   "source": [
    "data = DatasetDict(\n",
    "    {\n",
    "        \"train\": load_dataset(\"csv\", data_files=\"../data/train_oversampled.csv\", split=\"train\"),\n",
    "        \"validation\": load_dataset(\"csv\", data_files=\"../data/val_oversampled.csv\", split=\"train\"),\n",
    "        \"test\": load_dataset(\"csv\", data_files=\"../data/test.csv\", split=\"train\")\n",
    "    }\n",
    ")"
   ]
  },
  {
   "cell_type": "code",
   "execution_count": 7,
   "metadata": {},
   "outputs": [
    {
     "data": {
      "text/plain": [
       "DatasetDict({\n",
       "    train: Dataset({\n",
       "        features: ['Unnamed: 0', 'corrected_text', 'length', 'ratio_err', 'labels', 'is_generated'],\n",
       "        num_rows: 14803\n",
       "    })\n",
       "    validation: Dataset({\n",
       "        features: ['Unnamed: 0', 'corrected_text', 'length', 'ratio_err', 'labels', 'is_generated'],\n",
       "        num_rows: 3701\n",
       "    })\n",
       "    test: Dataset({\n",
       "        features: ['corrected_text', 'length', 'ratio_err', 'labels'],\n",
       "        num_rows: 3462\n",
       "    })\n",
       "})"
      ]
     },
     "execution_count": 7,
     "metadata": {},
     "output_type": "execute_result"
    }
   ],
   "source": [
    "data"
   ]
  },
  {
   "cell_type": "code",
   "execution_count": 8,
   "metadata": {},
   "outputs": [],
   "source": [
    "data[\"train\"] = data[\"train\"].remove_columns([\"Unnamed: 0\", \"length\", \"ratio_err\", \"is_generated\"])\n",
    "data[\"validation\"] = data[\"validation\"].remove_columns([\"Unnamed: 0\", \"length\", \"ratio_err\", \"is_generated\"])\n",
    "data[\"test\"] = data[\"test\"].remove_columns([\"length\", \"ratio_err\"])"
   ]
  },
  {
   "cell_type": "code",
   "execution_count": 9,
   "metadata": {},
   "outputs": [
    {
     "data": {
      "text/plain": [
       "DatasetDict({\n",
       "    train: Dataset({\n",
       "        features: ['corrected_text', 'labels'],\n",
       "        num_rows: 14803\n",
       "    })\n",
       "    validation: Dataset({\n",
       "        features: ['corrected_text', 'labels'],\n",
       "        num_rows: 3701\n",
       "    })\n",
       "    test: Dataset({\n",
       "        features: ['corrected_text', 'labels'],\n",
       "        num_rows: 3462\n",
       "    })\n",
       "})"
      ]
     },
     "execution_count": 9,
     "metadata": {},
     "output_type": "execute_result"
    }
   ],
   "source": [
    "data"
   ]
  },
  {
   "cell_type": "code",
   "execution_count": 10,
   "metadata": {},
   "outputs": [],
   "source": [
    "data = data.map(lambda x: \n",
    "    {\n",
    "        \"text\": x[\"corrected_text\"]\n",
    "    },\n",
    "    remove_columns=[\"corrected_text\"]\n",
    ")"
   ]
  },
  {
   "cell_type": "code",
   "execution_count": 11,
   "metadata": {},
   "outputs": [
    {
     "data": {
      "text/plain": [
       "DatasetDict({\n",
       "    train: Dataset({\n",
       "        features: ['labels', 'text'],\n",
       "        num_rows: 14803\n",
       "    })\n",
       "    validation: Dataset({\n",
       "        features: ['labels', 'text'],\n",
       "        num_rows: 3701\n",
       "    })\n",
       "    test: Dataset({\n",
       "        features: ['labels', 'text'],\n",
       "        num_rows: 3462\n",
       "    })\n",
       "})"
      ]
     },
     "execution_count": 11,
     "metadata": {},
     "output_type": "execute_result"
    }
   ],
   "source": [
    "data"
   ]
  },
  {
   "cell_type": "code",
   "execution_count": 12,
   "metadata": {},
   "outputs": [],
   "source": [
    "model = AutoModelForSequenceClassification.from_pretrained(model_ckpt,\n",
    "                                                           num_labels=6).to(\"cuda\")"
   ]
  },
  {
   "cell_type": "code",
   "execution_count": 13,
   "metadata": {},
   "outputs": [],
   "source": [
    "tokenizer = AutoTokenizer.from_pretrained(model_ckpt)"
   ]
  },
  {
   "cell_type": "code",
   "execution_count": 14,
   "metadata": {},
   "outputs": [],
   "source": [
    "def tokenize(batch):\n",
    "    return tokenizer(batch[\"text\"], truncation=True, padding=True)"
   ]
  },
  {
   "cell_type": "code",
   "execution_count": 15,
   "metadata": {},
   "outputs": [],
   "source": [
    "data = data.map(tokenize, batched=True)"
   ]
  },
  {
   "cell_type": "code",
   "execution_count": 16,
   "metadata": {},
   "outputs": [],
   "source": [
    "data = data.map(lambda x:\n",
    "    {\n",
    "        \"labels\": x[\"labels\"] - 1\n",
    "    }\n",
    ")"
   ]
  },
  {
   "cell_type": "code",
   "execution_count": 17,
   "metadata": {},
   "outputs": [],
   "source": [
    "data_collator = DataCollatorWithPadding(tokenizer=tokenizer)"
   ]
  },
  {
   "cell_type": "code",
   "execution_count": 18,
   "metadata": {},
   "outputs": [],
   "source": [
    "def compute_metrics(preds: EvalPrediction):\n",
    "    \"\"\"\n",
    "    Compute metrics for the task\n",
    "\n",
    "    Args:\n",
    "        preds {EvalPrediction}: the predictions from the model\n",
    "    Returns:\n",
    "        dict: a dictionary of metrics\n",
    "    \"\"\"\n",
    "    \n",
    "    labels = preds.label_ids\n",
    "    preds = preds.predictions.argmax(-1)\n",
    "\n",
    "    acc = accuracy_score(labels, preds)\n",
    "    weighted_precision = precision_score(labels, preds, average=\"weighted\")\n",
    "    weighted_recall = recall_score(labels, preds, average=\"weighted\")\n",
    "    weighted_f1 = f1_score(labels, preds, average=\"weighted\")\n",
    "    mcc = matthews_corrcoef(labels, preds)\n",
    "\n",
    "    macro_precision = precision_score(labels, preds, average=\"macro\")\n",
    "    macro_recall = recall_score(labels, preds, average=\"macro\")\n",
    "    macro_f1 = f1_score(labels, preds, average=\"macro\")\n",
    "\n",
    "    micro_precision = precision_score(labels, preds, average=\"micro\")\n",
    "    micro_recall = recall_score(labels, preds, average=\"micro\")\n",
    "    micro_f1 = f1_score(labels, preds, average=\"micro\")\n",
    "\n",
    "    return {\n",
    "        \"accuracy\": acc,\n",
    "        \"weighted_precision\": weighted_precision,\n",
    "        \"weighted_recall\": weighted_recall,\n",
    "        \"weighted_f1\": weighted_f1,\n",
    "        \"mcc\": mcc,\n",
    "        \"macro_precision\": macro_precision,\n",
    "        \"macro_recall\": macro_recall,\n",
    "        \"macro_f1\": macro_f1,\n",
    "        \"micro_precision\": micro_precision,\n",
    "        \"micro_recall\": micro_recall,\n",
    "        \"micro_f1\": micro_f1\n",
    "    }"
   ]
  },
  {
   "cell_type": "code",
   "execution_count": 19,
   "metadata": {},
   "outputs": [],
   "source": [
    "BATCH_SIZE = 32\n",
    "LR = 2e-5"
   ]
  },
  {
   "cell_type": "code",
   "execution_count": 20,
   "metadata": {},
   "outputs": [],
   "source": [
    "training_args = TrainingArguments(\n",
    "    output_dir=\"./bge-small-en-finetuned-oversampled\",\n",
    "    num_train_epochs=4,\n",
    "    per_device_train_batch_size=BATCH_SIZE,\n",
    "    per_device_eval_batch_size=BATCH_SIZE,\n",
    "    warmup_steps=500,\n",
    "    weight_decay=0.01,\n",
    "    logging_steps=100,\n",
    "    learning_rate=LR,\n",
    "    evaluation_strategy=\"steps\",\n",
    "    eval_steps=200,\n",
    "    report_to=\"tensorboard\",\n",
    "    lr_scheduler_type=\"cosine\"\n",
    ")"
   ]
  },
  {
   "cell_type": "code",
   "execution_count": 21,
   "metadata": {},
   "outputs": [],
   "source": [
    "trainer = Trainer(\n",
    "    model=model,\n",
    "    args=training_args,\n",
    "    train_dataset=data[\"train\"],\n",
    "    eval_dataset=data[\"validation\"],\n",
    "    data_collator=data_collator,\n",
    "    tokenizer=tokenizer,\n",
    "    compute_metrics=compute_metrics\n",
    ")"
   ]
  },
  {
   "cell_type": "code",
   "execution_count": 22,
   "metadata": {},
   "outputs": [
    {
     "data": {
      "text/html": [
       "\n",
       "    <div>\n",
       "      \n",
       "      <progress value='1852' max='1852' style='width:300px; height:20px; vertical-align: middle;'></progress>\n",
       "      [1852/1852 31:27, Epoch 4/4]\n",
       "    </div>\n",
       "    <table border=\"1\" class=\"dataframe\">\n",
       "  <thead>\n",
       " <tr style=\"text-align: left;\">\n",
       "      <th>Step</th>\n",
       "      <th>Training Loss</th>\n",
       "      <th>Validation Loss</th>\n",
       "      <th>Accuracy</th>\n",
       "      <th>Weighted Precision</th>\n",
       "      <th>Weighted Recall</th>\n",
       "      <th>Weighted F1</th>\n",
       "      <th>Mcc</th>\n",
       "      <th>Macro Precision</th>\n",
       "      <th>Macro Recall</th>\n",
       "      <th>Macro F1</th>\n",
       "      <th>Micro Precision</th>\n",
       "      <th>Micro Recall</th>\n",
       "      <th>Micro F1</th>\n",
       "    </tr>\n",
       "  </thead>\n",
       "  <tbody>\n",
       "    <tr>\n",
       "      <td>200</td>\n",
       "      <td>0.537200</td>\n",
       "      <td>0.557486</td>\n",
       "      <td>0.782761</td>\n",
       "      <td>0.792233</td>\n",
       "      <td>0.782761</td>\n",
       "      <td>0.784528</td>\n",
       "      <td>0.740890</td>\n",
       "      <td>0.790610</td>\n",
       "      <td>0.784143</td>\n",
       "      <td>0.784285</td>\n",
       "      <td>0.782761</td>\n",
       "      <td>0.782761</td>\n",
       "      <td>0.782761</td>\n",
       "    </tr>\n",
       "    <tr>\n",
       "      <td>400</td>\n",
       "      <td>0.485100</td>\n",
       "      <td>0.540861</td>\n",
       "      <td>0.777087</td>\n",
       "      <td>0.778463</td>\n",
       "      <td>0.777087</td>\n",
       "      <td>0.776563</td>\n",
       "      <td>0.733026</td>\n",
       "      <td>0.777842</td>\n",
       "      <td>0.777497</td>\n",
       "      <td>0.776432</td>\n",
       "      <td>0.777087</td>\n",
       "      <td>0.777087</td>\n",
       "      <td>0.777087</td>\n",
       "    </tr>\n",
       "    <tr>\n",
       "      <td>600</td>\n",
       "      <td>0.454100</td>\n",
       "      <td>0.555850</td>\n",
       "      <td>0.778168</td>\n",
       "      <td>0.798690</td>\n",
       "      <td>0.778168</td>\n",
       "      <td>0.784984</td>\n",
       "      <td>0.735069</td>\n",
       "      <td>0.797096</td>\n",
       "      <td>0.778401</td>\n",
       "      <td>0.784368</td>\n",
       "      <td>0.778168</td>\n",
       "      <td>0.778168</td>\n",
       "      <td>0.778168</td>\n",
       "    </tr>\n",
       "    <tr>\n",
       "      <td>800</td>\n",
       "      <td>0.442500</td>\n",
       "      <td>0.557812</td>\n",
       "      <td>0.775466</td>\n",
       "      <td>0.789165</td>\n",
       "      <td>0.775466</td>\n",
       "      <td>0.780305</td>\n",
       "      <td>0.731298</td>\n",
       "      <td>0.787799</td>\n",
       "      <td>0.775847</td>\n",
       "      <td>0.779864</td>\n",
       "      <td>0.775466</td>\n",
       "      <td>0.775466</td>\n",
       "      <td>0.775466</td>\n",
       "    </tr>\n",
       "    <tr>\n",
       "      <td>1000</td>\n",
       "      <td>0.381800</td>\n",
       "      <td>0.564485</td>\n",
       "      <td>0.781681</td>\n",
       "      <td>0.792470</td>\n",
       "      <td>0.781681</td>\n",
       "      <td>0.784987</td>\n",
       "      <td>0.739014</td>\n",
       "      <td>0.790954</td>\n",
       "      <td>0.782419</td>\n",
       "      <td>0.784555</td>\n",
       "      <td>0.781681</td>\n",
       "      <td>0.781681</td>\n",
       "      <td>0.781681</td>\n",
       "    </tr>\n",
       "    <tr>\n",
       "      <td>1200</td>\n",
       "      <td>0.421400</td>\n",
       "      <td>0.554898</td>\n",
       "      <td>0.782221</td>\n",
       "      <td>0.794114</td>\n",
       "      <td>0.782221</td>\n",
       "      <td>0.786613</td>\n",
       "      <td>0.739362</td>\n",
       "      <td>0.792882</td>\n",
       "      <td>0.782340</td>\n",
       "      <td>0.786038</td>\n",
       "      <td>0.782221</td>\n",
       "      <td>0.782221</td>\n",
       "      <td>0.782221</td>\n",
       "    </tr>\n",
       "    <tr>\n",
       "      <td>1400</td>\n",
       "      <td>0.395300</td>\n",
       "      <td>0.544715</td>\n",
       "      <td>0.780059</td>\n",
       "      <td>0.786120</td>\n",
       "      <td>0.780059</td>\n",
       "      <td>0.780801</td>\n",
       "      <td>0.737153</td>\n",
       "      <td>0.785034</td>\n",
       "      <td>0.780555</td>\n",
       "      <td>0.780448</td>\n",
       "      <td>0.780059</td>\n",
       "      <td>0.780059</td>\n",
       "      <td>0.780059</td>\n",
       "    </tr>\n",
       "    <tr>\n",
       "      <td>1600</td>\n",
       "      <td>0.368400</td>\n",
       "      <td>0.550533</td>\n",
       "      <td>0.783572</td>\n",
       "      <td>0.788468</td>\n",
       "      <td>0.783572</td>\n",
       "      <td>0.785473</td>\n",
       "      <td>0.740526</td>\n",
       "      <td>0.787275</td>\n",
       "      <td>0.783684</td>\n",
       "      <td>0.784919</td>\n",
       "      <td>0.783572</td>\n",
       "      <td>0.783572</td>\n",
       "      <td>0.783572</td>\n",
       "    </tr>\n",
       "    <tr>\n",
       "      <td>1800</td>\n",
       "      <td>0.361600</td>\n",
       "      <td>0.552970</td>\n",
       "      <td>0.783842</td>\n",
       "      <td>0.790361</td>\n",
       "      <td>0.783842</td>\n",
       "      <td>0.786218</td>\n",
       "      <td>0.741018</td>\n",
       "      <td>0.789315</td>\n",
       "      <td>0.784251</td>\n",
       "      <td>0.785859</td>\n",
       "      <td>0.783842</td>\n",
       "      <td>0.783842</td>\n",
       "      <td>0.783842</td>\n",
       "    </tr>\n",
       "  </tbody>\n",
       "</table><p>"
      ],
      "text/plain": [
       "<IPython.core.display.HTML object>"
      ]
     },
     "metadata": {},
     "output_type": "display_data"
    },
    {
     "data": {
      "text/plain": [
       "TrainOutput(global_step=1852, training_loss=0.43635281218823296, metrics={'train_runtime': 1888.5596, 'train_samples_per_second': 31.353, 'train_steps_per_second': 0.981, 'total_flos': 3900736220258304.0, 'train_loss': 0.43635281218823296, 'epoch': 4.0})"
      ]
     },
     "execution_count": 22,
     "metadata": {},
     "output_type": "execute_result"
    }
   ],
   "source": [
    "trainer.train()"
   ]
  },
  {
   "cell_type": "code",
   "execution_count": 23,
   "metadata": {},
   "outputs": [
    {
     "data": {
      "text/html": [
       "\n",
       "    <div>\n",
       "      \n",
       "      <progress value='109' max='109' style='width:300px; height:20px; vertical-align: middle;'></progress>\n",
       "      [109/109 00:30]\n",
       "    </div>\n",
       "    "
      ],
      "text/plain": [
       "<IPython.core.display.HTML object>"
      ]
     },
     "metadata": {},
     "output_type": "display_data"
    },
    {
     "data": {
      "text/plain": [
       "{'eval_loss': 0.9609768390655518,\n",
       " 'eval_accuracy': 0.6031195840554593,\n",
       " 'eval_weighted_precision': 0.6019493329938492,\n",
       " 'eval_weighted_recall': 0.6031195840554593,\n",
       " 'eval_weighted_f1': 0.5983203265683172,\n",
       " 'eval_mcc': 0.4617024523430584,\n",
       " 'eval_macro_precision': 0.5363805989455412,\n",
       " 'eval_macro_recall': 0.4865621870958263,\n",
       " 'eval_macro_f1': 0.4964570410129227,\n",
       " 'eval_micro_precision': 0.6031195840554593,\n",
       " 'eval_micro_recall': 0.6031195840554593,\n",
       " 'eval_micro_f1': 0.6031195840554593,\n",
       " 'eval_runtime': 31.123,\n",
       " 'eval_samples_per_second': 111.236,\n",
       " 'eval_steps_per_second': 3.502,\n",
       " 'epoch': 4.0}"
      ]
     },
     "execution_count": 23,
     "metadata": {},
     "output_type": "execute_result"
    }
   ],
   "source": [
    "trainer.evaluate(\n",
    "    eval_dataset=data[\"test\"]\n",
    ")"
   ]
  }
 ],
 "metadata": {
  "kernelspec": {
   "display_name": "base",
   "language": "python",
   "name": "python3"
  },
  "language_info": {
   "codemirror_mode": {
    "name": "ipython",
    "version": 3
   },
   "file_extension": ".py",
   "mimetype": "text/x-python",
   "name": "python",
   "nbconvert_exporter": "python",
   "pygments_lexer": "ipython3",
   "version": "3.11.8"
  }
 },
 "nbformat": 4,
 "nbformat_minor": 2
}
