{
 "cells": [
  {
   "cell_type": "code",
   "execution_count": 82,
   "metadata": {},
   "outputs": [
    {
     "name": "stderr",
     "output_type": "stream",
     "text": [
      "[nltk_data] Downloading package punkt to /Users/opop/nltk_data...\n",
      "[nltk_data]   Package punkt is already up-to-date!\n"
     ]
    }
   ],
   "source": [
    "from textattack.augmentation import WordNetAugmenter, EmbeddingAugmenter, EasyDataAugmenter, CharSwapAugmenter, BackTranslationAugmenter\n",
    "import warnings\n",
    "import torch\n",
    "import nltk\n",
    "nltk.download('punkt')\n",
    "import matplotlib.pyplot as plt\n",
    "import seaborn as sns\n",
    "from tqdm.notebook import tqdm\n",
    "import numpy as np\n",
    "import pandas as pd\n",
    "from typing import List, Literal, Union\n",
    "warnings.filterwarnings(\"ignore\")"
   ]
  },
  {
   "cell_type": "code",
   "execution_count": 7,
   "metadata": {},
   "outputs": [],
   "source": [
    "prompt = \"I am an example, we will explore textattack's augmentation capabilities with me.\""
   ]
  },
  {
   "cell_type": "code",
   "execution_count": 3,
   "metadata": {},
   "outputs": [
    {
     "name": "stderr",
     "output_type": "stream",
     "text": [
      "[nltk_data] Downloading package omw-1.4 to /Users/opop/nltk_data...\n",
      "[nltk_data]   Package omw-1.4 is already up-to-date!\n",
      "[nltk_data] Downloading package omw-1.4 to /Users/opop/nltk_data...\n",
      "[nltk_data]   Package omw-1.4 is already up-to-date!\n"
     ]
    }
   ],
   "source": [
    "wn_aug = WordNetAugmenter()\n",
    "emb_aug = EmbeddingAugmenter()\n",
    "bt_aug = BackTranslationAugmenter()\n",
    "easy_aug = EasyDataAugmenter()\n",
    "char_aug = CharSwapAugmenter()"
   ]
  },
  {
   "cell_type": "code",
   "execution_count": 5,
   "metadata": {},
   "outputs": [
    {
     "name": "stdout",
     "output_type": "stream",
     "text": [
      "Original: I am an example, we will explore textattack's augmentation capabilities with me.\n",
      "WordNetAugmenter: iodine am an example, we will explore textattack's augmentation capabilities with me.\n",
      "EmbeddingAugmenter: I am an example, we will explore textattack's widen capabilities with me.\n",
      "EasyDataAugmenter: I am an example, we will explore augmentation capabilities with me.\n",
      "CharSwapAugmenter: I am an example, we will explore textattack's augmentation oapabilities with me.\n",
      "BackTranslationAugmenter: I'm a copy, exploring the ability to increase testosterone with me.\n"
     ]
    }
   ],
   "source": [
    "wn_augmented_text = wn_aug.augment(prompt)\n",
    "emb_augmented_text = emb_aug.augment(prompt)\n",
    "easy_augmented_text = easy_aug.augment(prompt)\n",
    "char_augmented_text = char_aug.augment(prompt)\n",
    "bt_augmented_text = bt_aug.augment(prompt)\n",
    "\n",
    "print(f\"Original: {prompt}\")\n",
    "print(f\"WordNetAugmenter: {wn_augmented_text[0]}\")\n",
    "print(f\"EmbeddingAugmenter: {emb_augmented_text[0]}\")\n",
    "print(f\"EasyDataAugmenter: {easy_augmented_text[0]}\")\n",
    "print(f\"CharSwapAugmenter: {char_augmented_text[0]}\")\n",
    "print(f\"BackTranslationAugmenter: {bt_augmented_text[0]}\")"
   ]
  },
  {
   "cell_type": "markdown",
   "metadata": {},
   "source": [
    "Le problème du package `textattack` c'est qu'il n'y a pas autant d'options par rapport à `nlpaug`, de plus sur certaines méthodes on ne nous laisse pas beaucoup de choix sur les modèles"
   ]
  },
  {
   "cell_type": "markdown",
   "metadata": {},
   "source": [
    "`nlpaug` offre de nombreuses méthode pour augmenter le texte, incluant celles vu ci-dessus. Ici, nous allons nous intéresser à l'augmentation via des modèles d'embeddings."
   ]
  },
  {
   "cell_type": "code",
   "execution_count": 10,
   "metadata": {},
   "outputs": [],
   "source": [
    "import nlpaug.augmenter.word as naw # type: ignore"
   ]
  },
  {
   "cell_type": "code",
   "execution_count": 16,
   "metadata": {},
   "outputs": [],
   "source": [
    "aug = naw.ContextualWordEmbsAug(model_path='bert-base-uncased',\n",
    "                                device='cpu',\n",
    "                                action='substitute')"
   ]
  },
  {
   "cell_type": "code",
   "execution_count": 19,
   "metadata": {},
   "outputs": [
    {
     "name": "stdout",
     "output_type": "stream",
     "text": [
      "Original: I am an example, we will explore textattack's augmentation capabilities with me.\n",
      "nlpaug: i pursued their example, we would explore textattack'latest augmentation route through me.\n"
     ]
    }
   ],
   "source": [
    "print(f\"Original: {prompt}\")\n",
    "print(f\"nlpaug: {aug.augment(prompt)[0]}\")"
   ]
  },
  {
   "cell_type": "markdown",
   "metadata": {},
   "source": [
    "Maintenant nous allons récupérer les données undersamplées afin de les augmenter"
   ]
  },
  {
   "cell_type": "code",
   "execution_count": 51,
   "metadata": {},
   "outputs": [],
   "source": [
    "data_train = pd.read_csv('../../data/train_under.csv')\n",
    "data_val = pd.read_csv('../../data/val_under.csv')"
   ]
  },
  {
   "cell_type": "code",
   "execution_count": 52,
   "metadata": {},
   "outputs": [
    {
     "data": {
      "text/html": [
       "<div>\n",
       "<style scoped>\n",
       "    .dataframe tbody tr th:only-of-type {\n",
       "        vertical-align: middle;\n",
       "    }\n",
       "\n",
       "    .dataframe tbody tr th {\n",
       "        vertical-align: top;\n",
       "    }\n",
       "\n",
       "    .dataframe thead th {\n",
       "        text-align: right;\n",
       "    }\n",
       "</style>\n",
       "<table border=\"1\" class=\"dataframe\">\n",
       "  <thead>\n",
       "    <tr style=\"text-align: right;\">\n",
       "      <th></th>\n",
       "      <th>corrected_text</th>\n",
       "      <th>length</th>\n",
       "      <th>ratio_err</th>\n",
       "      <th>labels</th>\n",
       "    </tr>\n",
       "  </thead>\n",
       "  <tbody>\n",
       "    <tr>\n",
       "      <th>0</th>\n",
       "      <td>the author supports the idea that studying ven...</td>\n",
       "      <td>403</td>\n",
       "      <td>0.000000</td>\n",
       "      <td>3</td>\n",
       "    </tr>\n",
       "    <tr>\n",
       "      <th>1</th>\n",
       "      <td>driverless cars are important improvement tech...</td>\n",
       "      <td>420</td>\n",
       "      <td>0.004762</td>\n",
       "      <td>4</td>\n",
       "    </tr>\n",
       "    <tr>\n",
       "      <th>2</th>\n",
       "      <td>intro this new facial software could the next ...</td>\n",
       "      <td>545</td>\n",
       "      <td>0.022018</td>\n",
       "      <td>4</td>\n",
       "    </tr>\n",
       "    <tr>\n",
       "      <th>3</th>\n",
       "      <td>belive thate the face just natural landform be...</td>\n",
       "      <td>287</td>\n",
       "      <td>0.038328</td>\n",
       "      <td>2</td>\n",
       "    </tr>\n",
       "    <tr>\n",
       "      <th>4</th>\n",
       "      <td>against driverless cars because isn really dri...</td>\n",
       "      <td>266</td>\n",
       "      <td>0.011278</td>\n",
       "      <td>2</td>\n",
       "    </tr>\n",
       "  </tbody>\n",
       "</table>\n",
       "</div>"
      ],
      "text/plain": [
       "                                      corrected_text  length  ratio_err  \\\n",
       "0  the author supports the idea that studying ven...     403   0.000000   \n",
       "1  driverless cars are important improvement tech...     420   0.004762   \n",
       "2  intro this new facial software could the next ...     545   0.022018   \n",
       "3  belive thate the face just natural landform be...     287   0.038328   \n",
       "4  against driverless cars because isn really dri...     266   0.011278   \n",
       "\n",
       "   labels  \n",
       "0       3  \n",
       "1       4  \n",
       "2       4  \n",
       "3       2  \n",
       "4       2  "
      ]
     },
     "execution_count": 52,
     "metadata": {},
     "output_type": "execute_result"
    }
   ],
   "source": [
    "data_train.head()"
   ]
  },
  {
   "cell_type": "code",
   "execution_count": 53,
   "metadata": {},
   "outputs": [
    {
     "data": {
      "text/html": [
       "<div>\n",
       "<style scoped>\n",
       "    .dataframe tbody tr th:only-of-type {\n",
       "        vertical-align: middle;\n",
       "    }\n",
       "\n",
       "    .dataframe tbody tr th {\n",
       "        vertical-align: top;\n",
       "    }\n",
       "\n",
       "    .dataframe thead th {\n",
       "        text-align: right;\n",
       "    }\n",
       "</style>\n",
       "<table border=\"1\" class=\"dataframe\">\n",
       "  <thead>\n",
       "    <tr style=\"text-align: right;\">\n",
       "      <th></th>\n",
       "      <th>corrected_text</th>\n",
       "      <th>length</th>\n",
       "      <th>ratio_err</th>\n",
       "      <th>labels</th>\n",
       "    </tr>\n",
       "  </thead>\n",
       "  <tbody>\n",
       "    <tr>\n",
       "      <th>0</th>\n",
       "      <td>the reason have not got venus yet because all ...</td>\n",
       "      <td>340</td>\n",
       "      <td>0.041176</td>\n",
       "      <td>2</td>\n",
       "    </tr>\n",
       "    <tr>\n",
       "      <th>1</th>\n",
       "      <td>imagine you are doing school work and gets bor...</td>\n",
       "      <td>291</td>\n",
       "      <td>0.006873</td>\n",
       "      <td>3</td>\n",
       "    </tr>\n",
       "    <tr>\n",
       "      <th>2</th>\n",
       "      <td>the authors supporting details pretty well the...</td>\n",
       "      <td>190</td>\n",
       "      <td>0.026316</td>\n",
       "      <td>2</td>\n",
       "    </tr>\n",
       "    <tr>\n",
       "      <th>3</th>\n",
       "      <td>when don came and asked europe was glad that s...</td>\n",
       "      <td>217</td>\n",
       "      <td>0.036866</td>\n",
       "      <td>2</td>\n",
       "    </tr>\n",
       "    <tr>\n",
       "      <th>4</th>\n",
       "      <td>fellow citizens important that talk about the ...</td>\n",
       "      <td>604</td>\n",
       "      <td>0.011589</td>\n",
       "      <td>1</td>\n",
       "    </tr>\n",
       "  </tbody>\n",
       "</table>\n",
       "</div>"
      ],
      "text/plain": [
       "                                      corrected_text  length  ratio_err  \\\n",
       "0  the reason have not got venus yet because all ...     340   0.041176   \n",
       "1  imagine you are doing school work and gets bor...     291   0.006873   \n",
       "2  the authors supporting details pretty well the...     190   0.026316   \n",
       "3  when don came and asked europe was glad that s...     217   0.036866   \n",
       "4  fellow citizens important that talk about the ...     604   0.011589   \n",
       "\n",
       "   labels  \n",
       "0       2  \n",
       "1       3  \n",
       "2       2  \n",
       "3       2  \n",
       "4       1  "
      ]
     },
     "execution_count": 53,
     "metadata": {},
     "output_type": "execute_result"
    }
   ],
   "source": [
    "data_val.head()"
   ]
  },
  {
   "cell_type": "markdown",
   "metadata": {},
   "source": [
    "Il y a plusieurs paramètres qu'il faut prendre en compte lors de l'oversampling:  \n",
    "- Les erreurs étant corrigées, on aura des `NaN`au niveau de `ratio_err`, comment gérer ça ?  \n",
    "    *On peut soit décider d'utiliser un imputer (comme la médiane), soit juste associer la valeure du texte modifié,\n",
    "    le but étant de conserver un maximum la distribution originelle pour chaque label*\n",
    "- Comment éviter les redondances ?   \n",
    "    *Il y a plusieurs paramètres qu'on peut modifier pour les éviter, une autre approche serait d'utiliser plusieurs augmenteurs*"
   ]
  },
  {
   "cell_type": "code",
   "execution_count": 72,
   "metadata": {},
   "outputs": [],
   "source": [
    "def augmentation_pipeline(df: pd.DataFrame, \n",
    "                          col: str, \n",
    "                          augmenter_model: str,\n",
    "                          action: Literal['substitute', 'insert', 'swap', 'delete'],\n",
    "                          inputer: Literal['source', 'median', 'mean'], \n",
    "                          **kwargs) -> pd.DataFrame:\n",
    "    \"\"\"\n",
    "    Augment the data using the specified augmenter model.\n",
    "\n",
    "    Args:\n",
    "        df {pd.DataFrame} -- The DataFrame to augment\n",
    "        col {str} -- The column to augment\n",
    "        augmenter_model {str} -- The model to use for augmentation\n",
    "        action {Literal['substitute', 'insert', 'swap', 'delete']} -- The action to perform\n",
    "        inputer {Literal['source', 'median', 'mean']} -- The method to input the missing values\n",
    "            source: Use the original value of the random row\n",
    "            median: Use the median value of the column\n",
    "            mean: Use the mean value of the column\n",
    "        kwargs -- Additional arguments for the augmenter model\n",
    "\n",
    "    Returns:\n",
    "        pd.DataFrame -- The augmented DataFrame\n",
    "    \"\"\"\n",
    "\n",
    "    device = \"cuda\" if torch.cuda.is_available() else \"cpu\"\n",
    "\n",
    "    augmenter = naw.ContextualWordEmbsAug(model_path=augmenter_model, \n",
    "                                          device=device, \n",
    "                                          action=action,\n",
    "                                          **kwargs)\n",
    "    \n",
    "    max_count = df['labels'].value_counts().max()\n",
    "    \n",
    "    augmentation_counts = df['labels'].value_counts().apply(lambda x: max_count - x)\n",
    "    \n",
    "    augmented_data = []\n",
    "    \n",
    "    for i, (label, count) in tqdm(enumerate(augmentation_counts.items()), desc='Augmenting data', total=len(augmentation_counts)):\n",
    "        if count > 0:\n",
    "            label_data = df[df['labels'] == label]\n",
    "            \n",
    "            for _ in range(count):\n",
    "                row = label_data.sample(n=1, random_state=i, replace=True).iloc[0]\n",
    "                original_text = row[col]\n",
    "                augmented_text = augmenter.augment(original_text)[0]\n",
    "                \n",
    "                new_row = row.copy()\n",
    "                new_row[col] = augmented_text\n",
    "                new_row['is_generated'] = 1 \n",
    "                new_row['length'] = len(nltk.word_tokenize(augmented_text))  \n",
    "\n",
    "                if inputer == 'source':\n",
    "                    new_row['ratio_err'] = row['ratio_err']\n",
    "                \n",
    "                augmented_data.append(new_row)\n",
    "    \n",
    "    augmented_df = pd.DataFrame(augmented_data)\n",
    "    \n",
    "    if inputer == 'mean':\n",
    "        mean_value = df['ratio_err'].mean()\n",
    "        augmented_df['ratio_err'].fillna(mean_value, inplace=True)\n",
    "    elif inputer == 'median':\n",
    "        median_value = df['ratio_err'].median()\n",
    "        augmented_df['ratio_err'].fillna(median_value, inplace=True)\n",
    "    \n",
    "    df['is_generated'] = 0  \n",
    "    final_df = pd.concat([df, augmented_df], ignore_index=True)\n",
    "    \n",
    "    return final_df"
   ]
  },
  {
   "cell_type": "code",
   "execution_count": 73,
   "metadata": {},
   "outputs": [],
   "source": [
    "sample_df = data_train.sample(n=40, random_state=42)"
   ]
  },
  {
   "cell_type": "code",
   "execution_count": 74,
   "metadata": {},
   "outputs": [
    {
     "data": {
      "text/plain": [
       "labels\n",
       "3    12\n",
       "2     9\n",
       "4     7\n",
       "1     7\n",
       "5     5\n",
       "Name: count, dtype: int64"
      ]
     },
     "execution_count": 74,
     "metadata": {},
     "output_type": "execute_result"
    }
   ],
   "source": [
    "sample_df['labels'].value_counts()"
   ]
  },
  {
   "cell_type": "code",
   "execution_count": 85,
   "metadata": {},
   "outputs": [
    {
     "data": {
      "text/html": [
       "<div>\n",
       "<style scoped>\n",
       "    .dataframe tbody tr th:only-of-type {\n",
       "        vertical-align: middle;\n",
       "    }\n",
       "\n",
       "    .dataframe tbody tr th {\n",
       "        vertical-align: top;\n",
       "    }\n",
       "\n",
       "    .dataframe thead th {\n",
       "        text-align: right;\n",
       "    }\n",
       "</style>\n",
       "<table border=\"1\" class=\"dataframe\">\n",
       "  <thead>\n",
       "    <tr style=\"text-align: right;\">\n",
       "      <th></th>\n",
       "      <th>corrected_text</th>\n",
       "      <th>length</th>\n",
       "      <th>ratio_err</th>\n",
       "      <th>labels</th>\n",
       "      <th>is_generated</th>\n",
       "    </tr>\n",
       "  </thead>\n",
       "  <tbody>\n",
       "    <tr>\n",
       "      <th>5953</th>\n",
       "      <td>the years seem flying people seem growing smar...</td>\n",
       "      <td>598</td>\n",
       "      <td>0.001672</td>\n",
       "      <td>5</td>\n",
       "      <td>0</td>\n",
       "    </tr>\n",
       "    <tr>\n",
       "      <th>2481</th>\n",
       "      <td>exploring venus challenge and studying this pl...</td>\n",
       "      <td>399</td>\n",
       "      <td>0.005013</td>\n",
       "      <td>4</td>\n",
       "      <td>0</td>\n",
       "    </tr>\n",
       "    <tr>\n",
       "      <th>286</th>\n",
       "      <td>highly suggested that the electoral college sh...</td>\n",
       "      <td>346</td>\n",
       "      <td>0.005780</td>\n",
       "      <td>3</td>\n",
       "      <td>0</td>\n",
       "    </tr>\n",
       "    <tr>\n",
       "      <th>7469</th>\n",
       "      <td>according the passage using emotions and expre...</td>\n",
       "      <td>183</td>\n",
       "      <td>0.000000</td>\n",
       "      <td>1</td>\n",
       "      <td>0</td>\n",
       "    </tr>\n",
       "    <tr>\n",
       "      <th>8092</th>\n",
       "      <td>the author suggests that studying venus worthy...</td>\n",
       "      <td>250</td>\n",
       "      <td>0.052000</td>\n",
       "      <td>1</td>\n",
       "      <td>0</td>\n",
       "    </tr>\n",
       "  </tbody>\n",
       "</table>\n",
       "</div>"
      ],
      "text/plain": [
       "                                         corrected_text  length  ratio_err  \\\n",
       "5953  the years seem flying people seem growing smar...     598   0.001672   \n",
       "2481  exploring venus challenge and studying this pl...     399   0.005013   \n",
       "286   highly suggested that the electoral college sh...     346   0.005780   \n",
       "7469  according the passage using emotions and expre...     183   0.000000   \n",
       "8092  the author suggests that studying venus worthy...     250   0.052000   \n",
       "\n",
       "      labels  is_generated  \n",
       "5953       5             0  \n",
       "2481       4             0  \n",
       "286        3             0  \n",
       "7469       1             0  \n",
       "8092       1             0  "
      ]
     },
     "execution_count": 85,
     "metadata": {},
     "output_type": "execute_result"
    }
   ],
   "source": [
    "sample_df.head()"
   ]
  },
  {
   "cell_type": "code",
   "execution_count": 96,
   "metadata": {},
   "outputs": [
    {
     "data": {
      "application/vnd.jupyter.widget-view+json": {
       "model_id": "82a1d7a2614348049b4fd8f991bf2f26",
       "version_major": 2,
       "version_minor": 0
      },
      "text/plain": [
       "Augmenting data:   0%|          | 0/5 [00:00<?, ?it/s]"
      ]
     },
     "metadata": {},
     "output_type": "display_data"
    }
   ],
   "source": [
    "new_sample_df = augmentation_pipeline(\n",
    "    sample_df,\n",
    "    'corrected_text',\n",
    "    'distilbert-base-uncased',\n",
    "    'substitute',\n",
    "    'source',\n",
    "    top_k=20,  \n",
    "    aug_p=0.3\n",
    ")                                "
   ]
  },
  {
   "cell_type": "code",
   "execution_count": 97,
   "metadata": {},
   "outputs": [
    {
     "data": {
      "image/png": "[encoded data removed]",
      "text/plain": [
       "<Figure size 1500x1000 with 4 Axes>"
      ]
     },
     "metadata": {},
     "output_type": "display_data"
    }
   ],
   "source": [
    "fig, ax = plt.subplots(2, 2, figsize=(15, 10))\n",
    "\n",
    "values_or= sample_df['labels'].value_counts().sort_index()\n",
    "values_or.plot(kind='bar', ax=ax[0, 0])\n",
    "ax[0, 0].set_title('Original Data')\n",
    "\n",
    "values_gen = new_sample_df['labels'].value_counts().sort_index()\n",
    "values_gen.plot(kind='bar', ax=ax[0, 1])\n",
    "ax[0, 1].set_title('Augmented Data')\n",
    "\n",
    "sns.violinplot(x='labels', y='ratio_err', data=sample_df, ax=ax[1, 0])\n",
    "\n",
    "sns.violinplot(x='labels', y='ratio_err', data=new_sample_df, ax=ax[1, 1])\n",
    "\n",
    "plt.show()"
   ]
  }
 ],
 "metadata": {
  "kernelspec": {
   "display_name": "base",
   "language": "python",
   "name": "python3"
  },
  "language_info": {
   "codemirror_mode": {
    "name": "ipython",
    "version": 3
   },
   "file_extension": ".py",
   "mimetype": "text/x-python",
   "name": "python",
   "nbconvert_exporter": "python",
   "pygments_lexer": "ipython3",
   "version": "3.11.8"
  }
 },
 "nbformat": 4,
 "nbformat_minor": 2
}
