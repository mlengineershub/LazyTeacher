{
 "cells": [
  {
   "cell_type": "code",
   "execution_count": 1,
   "metadata": {},
   "outputs": [],
   "source": [
    "from textattack.augmentation import WordNetAugmenter, EmbeddingAugmenter, EasyDataAugmenter, CharSwapAugmenter, BackTranslationAugmenter\n",
    "import warnings\n",
    "from tqdm.notebook import tqdm\n",
    "import numpy as np\n",
    "import pandas as pd\n",
    "from typing import List\n",
    "warnings.filterwarnings(\"ignore\")"
   ]
  },
  {
   "cell_type": "code",
   "execution_count": 2,
   "metadata": {},
   "outputs": [],
   "source": [
    "prompt = \"I am an example, we will explore textattack's augmentation capabilities with me.\""
   ]
  },
  {
   "cell_type": "code",
   "execution_count": 3,
   "metadata": {},
   "outputs": [
    {
     "name": "stderr",
     "output_type": "stream",
     "text": [
      "[nltk_data] Downloading package omw-1.4 to /Users/opop/nltk_data...\n",
      "[nltk_data]   Package omw-1.4 is already up-to-date!\n",
      "[nltk_data] Downloading package omw-1.4 to /Users/opop/nltk_data...\n",
      "[nltk_data]   Package omw-1.4 is already up-to-date!\n"
     ]
    }
   ],
   "source": [
    "wn_aug = WordNetAugmenter()\n",
    "emb_aug = EmbeddingAugmenter()\n",
    "bt_aug = BackTranslationAugmenter()\n",
    "easy_aug = EasyDataAugmenter()\n",
    "char_aug = CharSwapAugmenter()"
   ]
  },
  {
   "cell_type": "code",
   "execution_count": 5,
   "metadata": {},
   "outputs": [
    {
     "name": "stdout",
     "output_type": "stream",
     "text": [
      "Original: I am an example, we will explore textattack's augmentation capabilities with me.\n",
      "WordNetAugmenter: iodine am an example, we will explore textattack's augmentation capabilities with me.\n",
      "EmbeddingAugmenter: I am an example, we will explore textattack's widen capabilities with me.\n",
      "EasyDataAugmenter: I am an example, we will explore augmentation capabilities with me.\n",
      "CharSwapAugmenter: I am an example, we will explore textattack's augmentation oapabilities with me.\n",
      "BackTranslationAugmenter: I'm a copy, exploring the ability to increase testosterone with me.\n"
     ]
    }
   ],
   "source": [
    "wn_augmented_text = wn_aug.augment(prompt)\n",
    "emb_augmented_text = emb_aug.augment(prompt)\n",
    "easy_augmented_text = easy_aug.augment(prompt)\n",
    "char_augmented_text = char_aug.augment(prompt)\n",
    "bt_augmented_text = bt_aug.augment(prompt)\n",
    "\n",
    "print(f\"Original: {prompt}\")\n",
    "print(f\"WordNetAugmenter: {wn_augmented_text[0]}\")\n",
    "print(f\"EmbeddingAugmenter: {emb_augmented_text[0]}\")\n",
    "print(f\"EasyDataAugmenter: {easy_augmented_text[0]}\")\n",
    "print(f\"CharSwapAugmenter: {char_augmented_text[0]}\")\n",
    "print(f\"BackTranslationAugmenter: {bt_augmented_text[0]}\")"
   ]
  },
  {
   "cell_type": "markdown",
   "metadata": {},
   "source": [
    "Le problème du package `textattack` c'est qu'il n'y a pas autant d'options par rapport à `nlpaug`, de plus sur certaines méthodes on ne nous laisse pas beaucoup de choix sur les modèles"
   ]
  },
  {
   "cell_type": "markdown",
   "metadata": {},
   "source": [
    "`nlpaug` offre de nombreuses méthode pour augmenter le texte, incluant celles vu ci-dessus. Ici, nous allons nous intéresser à l'augmentation via des modèles d'embeddings."
   ]
  },
  {
   "cell_type": "code",
   "execution_count": 15,
   "metadata": {},
   "outputs": [],
   "source": [
    "from nlpaug.augmenter.word import WordEmbsAug, ContextualWordEmbsAug"
   ]
  },
  {
   "cell_type": "code",
   "execution_count": null,
   "metadata": {},
   "outputs": [],
   "source": []
  }
 ],
 "metadata": {
  "kernelspec": {
   "display_name": "base",
   "language": "python",
   "name": "python3"
  },
  "language_info": {
   "codemirror_mode": {
    "name": "ipython",
    "version": 3
   },
   "file_extension": ".py",
   "mimetype": "text/x-python",
   "name": "python",
   "nbconvert_exporter": "python",
   "pygments_lexer": "ipython3",
   "version": "3.11.8"
  }
 },
 "nbformat": 4,
 "nbformat_minor": 2
}
