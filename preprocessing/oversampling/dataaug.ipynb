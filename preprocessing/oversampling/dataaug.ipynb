{
 "cells": [
  {
   "cell_type": "code",
   "execution_count": 15,
   "metadata": {},
   "outputs": [],
   "source": [
    "from textattack.augmentation import WordNetAugmenter, EmbeddingAugmenter, EasyDataAugmenter, CharSwapAugmenter, BackTranslationAugmenter\n",
    "import warnings\n",
    "from tqdm.notebook import tqdm\n",
    "import numpy as np\n",
    "import pandas as pd\n",
    "from typing import List\n",
    "warnings.filterwarnings(\"ignore\")"
   ]
  },
  {
   "cell_type": "code",
   "execution_count": 3,
   "metadata": {},
   "outputs": [],
   "source": [
    "prompt = \"I am an example, we will explore textattack's augmentation capabilities with me.\""
   ]
  },
  {
   "cell_type": "code",
   "execution_count": 8,
   "metadata": {},
   "outputs": [
    {
     "name": "stderr",
     "output_type": "stream",
     "text": [
      "[nltk_data] Downloading package omw-1.4 to /Users/opop/nltk_data...\n",
      "[nltk_data]   Package omw-1.4 is already up-to-date!\n",
      "[nltk_data] Downloading package omw-1.4 to /Users/opop/nltk_data...\n",
      "[nltk_data]   Package omw-1.4 is already up-to-date!\n"
     ]
    }
   ],
   "source": [
    "wn_aug = WordNetAugmenter()\n",
    "emb_aug = EmbeddingAugmenter()\n",
    "bt_aug = BackTranslationAugmenter()\n",
    "easy_aug = EasyDataAugmenter()\n",
    "char_aug = CharSwapAugmenter()"
   ]
  },
  {
   "cell_type": "code",
   "execution_count": 45,
   "metadata": {},
   "outputs": [
    {
     "name": "stdout",
     "output_type": "stream",
     "text": [
      "Original: I am an example, we will explore textattack's augmentation capabilities with me.\n",
      "WordNetAugmenter: I am an representative, we will explore textattack's augmentation capabilities with me.\n",
      "EmbeddingAugmenter: I am an example, we will explore textattack's heighten capabilities with me.\n",
      "EasyDataAugmenter: I an example, we will explore textattack's augmentation capabilities with me.\n",
      "CharSwapAugmenter: I am an exampe, we will explore textattack's augmentation capabilities with me.\n",
      "BackTranslationAugmenter: I'm an example, exploring the ability to increase text attacks with me.\n"
     ]
    }
   ],
   "source": [
    "wn_augmented_text = wn_aug.augment(prompt)\n",
    "emb_augmented_text = emb_aug.augment(prompt)\n",
    "easy_augmented_text = easy_aug.augment(prompt)\n",
    "char_augmented_text = char_aug.augment(prompt)\n",
    "bt_augmented_text = bt_aug.augment(prompt)\n",
    "\n",
    "print(f\"Original: {prompt}\")\n",
    "print(f\"WordNetAugmenter: {wn_augmented_text[0]}\")\n",
    "print(f\"EmbeddingAugmenter: {emb_augmented_text[0]}\")\n",
    "print(f\"EasyDataAugmenter: {easy_augmented_text[0]}\")\n",
    "print(f\"CharSwapAugmenter: {char_augmented_text[0]}\")\n",
    "print(f\"BackTranslationAugmenter: {bt_augmented_text[0]}\")"
   ]
  },
  {
   "cell_type": "markdown",
   "metadata": {},
   "source": [
    "Nous allons utiliser trois de ces techniques pour augmenter notre dataset. On fera en sorte d'utiliser aléatoirement l'une d'entre-elles à chaque fois."
   ]
  },
  {
   "cell_type": "code",
   "execution_count": 24,
   "metadata": {},
   "outputs": [],
   "source": [
    "def augmentation_pipeline(batch: List[str],\n",
    "                          new_examples: int = 4) -> List[str]:\n",
    "    \"\"\"\n",
    "    This function takes in a batch of text and returns augmented text. It uses randomly the following augmentation techniques:\n",
    "    1. EmbeddingAugmenter\n",
    "    2. EasyDataAugmenter\n",
    "    3. BackTranslationAugmenter\n",
    "    \n",
    "    Args:\n",
    "        batch: List of strings\n",
    "        new_examples: Number of new examples to generate from each example in the batch\n",
    "    Returns:\n",
    "        augmented_text: List of strings\n",
    "    \"\"\"\n",
    "\n",
    "    emb = EmbeddingAugmenter(transformations_per_example=new_examples)\n",
    "    easy = EasyDataAugmenter(transformations_per_example=new_examples)\n",
    "    # bt_aug = BackTranslationAugmenter(transformations_per_example=new_examples)\n",
    "\n",
    "    choices = [emb, easy]\n",
    "\n",
    "    np.random.seed(42)\n",
    "    augmenters = np.random.choice(choices, len(batch))\n",
    "\n",
    "    augmented_text = []\n",
    "    for i, aug in tqdm(enumerate(augmenters), desc=\"Augmenting text\", total=len(augmenters)):\n",
    "        augmented_text.extend(aug.augment(batch[i]))\n",
    "    \n",
    "    return augmented_text"
   ]
  },
  {
   "cell_type": "markdown",
   "metadata": {},
   "source": [
    "Testons sur un échantillon"
   ]
  },
  {
   "cell_type": "code",
   "execution_count": 25,
   "metadata": {},
   "outputs": [],
   "source": [
    "df_train = pd.read_csv(\"../data/train.csv\")"
   ]
  },
  {
   "cell_type": "code",
   "execution_count": 26,
   "metadata": {},
   "outputs": [],
   "source": [
    "df_sample = df_train.sample(5, random_state=42)"
   ]
  },
  {
   "cell_type": "code",
   "execution_count": 27,
   "metadata": {},
   "outputs": [
    {
     "name": "stdout",
     "output_type": "stream",
     "text": [
      "Original:\n",
      " ['the article unmaking the face mars explains how the face mars was not made aliens but was actually made naturally and called mesa the face was not made aliens but does tremble human head the face was also natural landform and the face finally just mesa even though people still believe that was created aliens the face was not created aliens was actually just rock that was shaped like human face with nose eyes and mouth quote from the article that supports answer how know that the face was not created aliens and the was actually just rock that was shaped like human face with nose eyes and mouth few days later nasa unveiled the image for all see the caption noted huge rock formation which resembles human head formed shadows giving the illusion eyes nose and mouth the authors reasoned would good way engage the public and attract attention mars this quote supports answer because explains how nasa said that was just rock formation that resembled human head another way how know that the face was not created aliens but was resembled human head was also natural landform and not alien monument after all quote from the article that supports answer how know that the face was not created aliens but was resembled human head was also natural landform and not alien monument after all thousands anxious web surfers were waiting when the image first appeared jpl web site revealing natural landform there was alien monument after all this quote from the article supports claim how know that the face was not created aliens but was resembled human head was also natural landform and not alien monument after all because explains how the rock formation was natural landform after further reasearch was done and revealing the world that the face was not alien monument after all finally not everyone was satisfied nasa did some more research and april they took great photo the face and found that was indeed mesa quote from the article that supports asner how the face was not created aliens but was just butte natural landform what the picture actually shows the martian equivalent butte landforms common around the american west it reminds most middle butte the snake river plain idaho says garvin thats lava dome that takes the form isolated mesa about the same height the face mars this quote supports answer explaining how the face was not alien made and was just natural landform conclusion the face was not alien made but was just natural landform the face was not created aliens was actually just rock that was shaped like human face with nose eyes and mouth the face was also mesa and new high resolution images and altimetry from nasals mars global survey spacecraft reveal the face mars for what really mesa after reading essay want you think about how the face was not created aliens but was actually created naturally also want you think about all the reasons have stated earler essay that support claim the face not being created aliens but naturally'\n",
      " 'have you ever wanted travel fun places like cross countries going china what ever country you wanted well there book about cowboys that cross countries and lived there luke wants you join the cowboy travel know that luke wants have fun luke bomberger had idea that his life would change soon after his high school graduation think you should follow the cowboys because just experience many new fun things got travel all the way europe and china wouldn you wanat travel chase your dreams and have fun lukes friend ask him did want and luke said yes you have job and you want take break then with the cowboy and see how much fun you have august they received report new koreans the cattle boat trips are unbelieveable said luke opportunity for small town boy luke said again had the side benefit seeing europe and china think you should what ever you want you want chase your dream you can hard work pays off luke did time part job after that got many places and the most biggest going china and europe you want people you can'\n",
      " 'all for driverless cars this will make life easier humans cars that are programmed with computers and sensors will more than likely react faster than our human brains can this will lead great decrease the number car wrecks and fatalities involving cars paragraph says that there was bmw made that can steer accelerate and brake without driver technology becoming more and more advanced everyday and should optimistic and not shy away from this new innovation vehicles wouldn you prefer driverless car you were incapable driving the technology isn quite there yet but mercedes benz audi and nissan plan have driverless cars the year year this year projection was made tesla that car will released with the capability drive autopilot the time all all driverless cars can lead safer cars and easier lives for'\n",
      " 'have you ever wanted cowboy who crosses the sea now you can you join the seagoing cowboys program think you should join the program because you get help nations recover their supplies and explore the world you travel which thought was really fun one reason think you should seagoing cowboy help the nations giving them more things they need such food animals and more think helping the nations doing this the war will contribute them they could win give them the things they need win the war another reason think people should join have fun say that because while you are sea you could explore different places around the world while being seagoing cowboy visited places like europe and china while was working seagoing cowboy also went greece see acropolis and even went excavated castle crete when the animals are unloaded you could play many things such table tennis baseball volleyball and many more the empty holds where the animals were conclusion think people should join the seagoing cowboys program because you get help the nations regain their supplies and you get have fun exploring around the world you should join because the seagoing cowboys program fun and helpful many people'\n",
      " 'you believe aliens you believe them living outer space perhaps different planet imagine you worked for nasa and you found pictures about unmasking face mars what would you even think about you had seen faces the surface mars work for nasa and have have found pictures about face mars and through perspectives believe that its alien the surface mars the reason why believe this alien because the face absolute landform alien these photos were taken and the face revolted more like face what humans was humans but been doing research that these faces are from aliens although does look like human face theres body connected unless the body stuck underneath the surface the planet but through research insist alien not have proof one but theres proof being human either when the mars orbiter camera went around mars the face still had evidence was either human face alien artifact case still prove this alien done plenty research and nothing has been found human face alien question that was human why wouldn have known was human died where the rest their body perhaps was trapped under the surface but question still believe this artifact alien']\n"
     ]
    }
   ],
   "source": [
    "print(f\"Original:\\n {df_sample['text'].values}\")"
   ]
  }
 ],
 "metadata": {
  "kernelspec": {
   "display_name": "base",
   "language": "python",
   "name": "python3"
  },
  "language_info": {
   "codemirror_mode": {
    "name": "ipython",
    "version": 3
   },
   "file_extension": ".py",
   "mimetype": "text/x-python",
   "name": "python",
   "nbconvert_exporter": "python",
   "pygments_lexer": "ipython3",
   "version": "3.11.8"
  }
 },
 "nbformat": 4,
 "nbformat_minor": 2
}
